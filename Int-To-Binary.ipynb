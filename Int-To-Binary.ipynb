{
 "cells": [
  {
   "cell_type": "code",
   "execution_count": 1,
   "metadata": {
    "collapsed": true
   },
   "outputs": [],
   "source": [
    "# Imports\n",
    "import numpy as np\n",
    "import tensorflow as tf\n",
    "from tensorflow.contrib import rnn"
   ]
  },
  {
   "cell_type": "code",
   "execution_count": 2,
   "metadata": {},
   "outputs": [
    {
     "name": "stdout",
     "output_type": "stream",
     "text": [
      "[0, 0, 0, 0, 0, 1, 0, 1]\n"
     ]
    }
   ],
   "source": [
    "# Integer to Binary Generator\n",
    "def getBin(integer, len_binary):\n",
    "    binary = bin(int(integer))[2:].zfill(len_binary)\n",
    "    return map(int, list(binary))\n",
    "# Test case\n",
    "number = 5.0\n",
    "print getBin(number, 8)"
   ]
  },
  {
   "cell_type": "code",
   "execution_count": 3,
   "metadata": {},
   "outputs": [
    {
     "name": "stdout",
     "output_type": "stream",
     "text": [
      "5.0 \t  [ 0.  1.  0.  1.]\n",
      "11.0 \t  [ 1.  0.  1.  1.]\n",
      "12.0 \t  [ 1.  1.  0.  0.]\n",
      "8.0 \t  [ 1.  0.  0.  0.]\n",
      "9.0 \t  [ 1.  0.  0.  1.]\n"
     ]
    }
   ],
   "source": [
    "# Dataset Creation\n",
    "def create_data(num_samples, len_binary):\n",
    "    np.random.seed(1)\n",
    "    x = np.zeros(num_samples)\n",
    "    y = np.zeros((num_samples, len_binary))\n",
    "    max_val = 2 ** len_binary - 1\n",
    "    for i in range(num_samples):\n",
    "        number = np.random.randint(0, max_val)\n",
    "        x[i] = int(number)\n",
    "        y[i] = getBin(number, len_binary) \n",
    "    return x, y\n",
    "\n",
    "# Test Case\n",
    "X, y = create_data(5, 4)\n",
    "for i in range(X.shape[0]):\n",
    "    print X[i], '\\t ', y[i]"
   ]
  },
  {
   "cell_type": "code",
   "execution_count": 4,
   "metadata": {
    "collapsed": true
   },
   "outputs": [],
   "source": [
    "# TF Model Parameters\n",
    "binary_length = 4\n",
    "training_samples = 1000\n",
    "testing_samples = 20\n",
    "lr = 0.01\n",
    "training_steps = 100000  # Need to train longer\n",
    "display_steps = 5000\n",
    "n_input = 1\n",
    "n_hidden_units = 32  # Need more hidden units as compared to Binary to Int model\n",
    "n_output = binary_length\n",
    "timestep = 1"
   ]
  },
  {
   "cell_type": "code",
   "execution_count": 5,
   "metadata": {},
   "outputs": [
    {
     "name": "stdout",
     "output_type": "stream",
     "text": [
      "5.0 \t[ 0.  1.  0.  1.] \n",
      "\n",
      "11.0 \t[ 1.  0.  1.  1.] \n",
      "\n",
      "12.0 \t[ 1.  1.  0.  0.] \n",
      "\n",
      "8.0 \t[ 1.  0.  0.  0.] \n",
      "\n",
      "9.0 \t[ 1.  0.  0.  1.] \n",
      "\n"
     ]
    }
   ],
   "source": [
    "# Generate Training and Testing Data\n",
    "X_train, y_train = create_data(training_samples, binary_length)\n",
    "X_test, y_test = create_data(testing_samples, binary_length)\n",
    "\n",
    "# Print data\n",
    "display = 5\n",
    "for i in range(display):\n",
    "    print X_train[i], '\\t', y_train[i], \"\\n\""
   ]
  },
  {
   "cell_type": "code",
   "execution_count": 6,
   "metadata": {
    "collapsed": true
   },
   "outputs": [],
   "source": [
    "# TF Model and intializations\n",
    "X = tf.placeholder(tf.float32, [None, timestep, n_input])\n",
    "y = tf.placeholder(tf.float32, [None, n_output])\n",
    "W = tf.Variable(tf.random_normal([n_hidden_units, n_output]))\n",
    "b = tf.Variable(tf.random_normal([n_output]))\n",
    "\n",
    "def model(X, W, b, timestep, n_hidden_units):\n",
    "    X = tf.unstack(X, timestep, 1)\n",
    "    lstm_cell = rnn.BasicLSTMCell(n_hidden_units, forget_bias=1.0)\n",
    "    outputs, states = rnn.static_rnn(lstm_cell, X, dtype=tf.float32)\n",
    "    logits = tf.matmul(outputs[-1], W) + b\n",
    "    return logits\n",
    "\n",
    "logits = model(X, W, b, timestep, n_hidden_units)\n",
    "loss = tf.reduce_mean(tf.losses.mean_squared_error(logits, y))\n",
    "optimizer = tf.train.RMSPropOptimizer(lr)\n",
    "training = optimizer.minimize(loss)"
   ]
  },
  {
   "cell_type": "code",
   "execution_count": 7,
   "metadata": {},
   "outputs": [
    {
     "name": "stdout",
     "output_type": "stream",
     "text": [
      "[[ 5.]] \t[ 0.  1.  0.  1.]\n",
      "[[ 11.]] \t[ 1.  0.  1.  1.]\n",
      "[[ 12.]] \t[ 1.  1.  0.  0.]\n",
      "[[ 8.]] \t[ 1.  0.  0.  0.]\n",
      "[[ 9.]] \t[ 1.  0.  0.  1.]\n"
     ]
    }
   ],
   "source": [
    "# Reshape data\n",
    "X_train = np.reshape(X_train, [-1, timestep, n_input])\n",
    "y_train = np.reshape(y_train, [-1, n_output])\n",
    "\n",
    "X_test = np.reshape(X_test, [-1, timestep, n_input])\n",
    "y_test = np.reshape(y_test, [-1, n_output])\n",
    "\n",
    "# Print data\n",
    "display = 5\n",
    "for i in range(display):\n",
    "    print X_train[i], '\\t', y_train[i]"
   ]
  },
  {
   "cell_type": "code",
   "execution_count": 8,
   "metadata": {},
   "outputs": [
    {
     "name": "stdout",
     "output_type": "stream",
     "text": [
      "Loss 3.79816460609 at timestep 0\n",
      "Loss 0.0660181120038 at timestep 5000\n",
      "Loss 0.0401009656489 at timestep 10000\n",
      "Loss 0.0271296277642 at timestep 15000\n",
      "Loss 0.0225992463529 at timestep 20000\n",
      "Loss 0.0168229565024 at timestep 25000\n",
      "Loss 0.0121213821694 at timestep 30000\n",
      "Loss 0.00916683115065 at timestep 35000\n",
      "Loss 0.00760125601664 at timestep 40000\n",
      "Loss 0.00673454953358 at timestep 45000\n",
      "Loss 0.0058130226098 at timestep 50000\n",
      "Loss 0.00500587001443 at timestep 55000\n",
      "Loss 0.00509011745453 at timestep 60000\n",
      "Loss 0.00308739230968 at timestep 65000\n",
      "Loss 0.00302260182798 at timestep 70000\n",
      "Loss 0.00260396488011 at timestep 75000\n",
      "Loss 0.00318238767795 at timestep 80000\n",
      "Loss 0.00403110217303 at timestep 85000\n",
      "Loss 0.0019497909816 at timestep 90000\n",
      "Loss 0.00276785693131 at timestep 95000\n"
     ]
    }
   ],
   "source": [
    "# Run TF\n",
    "np.random.seed(0)\n",
    "with tf.Session() as sess:\n",
    "    tf.global_variables_initializer().run()\n",
    "    for step in range(training_steps):\n",
    "        _, loss_out = sess.run([training, loss], feed_dict={X: X_train, y:y_train})\n",
    "        if step % display_steps == 0:\n",
    "            print \"Loss {} at timestep {}\" .format(loss_out, step)\n",
    "            out = sess.run(logits, feed_dict={X: X_test})"
   ]
  },
  {
   "cell_type": "code",
   "execution_count": 9,
   "metadata": {},
   "outputs": [
    {
     "name": "stdout",
     "output_type": "stream",
     "text": [
      "Ground Truth \t Predicted\n",
      "[ 1.  1.  0.  1.] -> [ 1.  1.  0.  1.]\n",
      "[ 1.  0.  0.  1.] -> [ 1.  0.  0.  1.]\n",
      "[ 0.  1.  0.  1.] -> [ 0.  1.  0.  1.]\n",
      "[ 1.  0.  0.  0.] -> [ 1.  0.  0.  0.]\n",
      "[ 1.  0.  0.  0.] -> [ 1.  0.  0.  0.]\n",
      "Accuracy is 1.0 \n",
      "\n"
     ]
    }
   ],
   "source": [
    "# Evaluation Metric\n",
    "# 1 if Prediction is greater than 0.5, 0 otherwise\n",
    "mask = out > 0.5\n",
    "out[mask] = 1\n",
    "out[~mask]= 0\n",
    "plot =  True\n",
    "if plot is True:\n",
    "    print \"Ground Truth \\t Predicted\"\n",
    "    disp = 5\n",
    "    rdm = np.random.randint(0, y_test.shape[0], disp)\n",
    "    for i in rdm:\n",
    "        print y_test[i], \"->\", out[i]\n",
    "acc = out == y_test\n",
    "acc = acc.sum(axis=1) == binary_length\n",
    "acc = acc.sum()/float(len(y_test))\n",
    "print \"Accuracy is {} \\n\" .format(acc)"
   ]
  }
 ],
 "metadata": {
  "kernelspec": {
   "display_name": "Python 2",
   "language": "python",
   "name": "python2"
  },
  "language_info": {
   "codemirror_mode": {
    "name": "ipython",
    "version": 2
   },
   "file_extension": ".py",
   "mimetype": "text/x-python",
   "name": "python",
   "nbconvert_exporter": "python",
   "pygments_lexer": "ipython2",
   "version": "2.7.13"
  }
 },
 "nbformat": 4,
 "nbformat_minor": 2
}
